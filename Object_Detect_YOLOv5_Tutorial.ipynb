{
  "cells": [
    {
      "cell_type": "markdown",
      "metadata": {
        "colab_type": "text",
        "id": "view-in-github"
      },
      "source": [
        "<a href=\"https://colab.research.google.com/github/NgoTranTuanPhong/Yolov5_Object_Detection/blob/main/Object_Detect_YOLOv5_Tutorial.ipynb\" target=\"_parent\"><img src=\"https://colab.research.google.com/assets/colab-badge.svg\" alt=\"Open In Colab\"/></a>"
      ]
    },
    {
      "cell_type": "markdown",
      "metadata": {
        "id": "t6MPjfT5NrKQ"
      },
      "source": [
        "<div align=\"center\">\n",
        "\n",
        "  <a href=\"https://ultralytics.com/yolov5\" target=\"_blank\">\n",
        "    <img width=\"1024\", src=\"https://raw.githubusercontent.com/ultralytics/assets/main/yolov5/v70/splash.png\"></a>\n",
        "\n",
        "[中文](https://docs.ultralytics.com/zh/) | [한국어](https://docs.ultralytics.com/ko/) | [日本語](https://docs.ultralytics.com/ja/) | [Русский](https://docs.ultralytics.com/ru/) | [Deutsch](https://docs.ultralytics.com/de/) | [Français](https://docs.ultralytics.com/fr/) | [Español](https://docs.ultralytics.com/es/) | [Português](https://docs.ultralytics.com/pt/) | [हिन्दी](https://docs.ultralytics.com/hi/) | [العربية](https://docs.ultralytics.com/ar/)\n",
        "\n",
        "  <a href=\"https://bit.ly/yolov5-paperspace-notebook\"><img src=\"https://assets.paperspace.io/img/gradient-badge.svg\" alt=\"Run on Gradient\"></a>\n",
        "  <a href=\"https://colab.research.google.com/github/ultralytics/yolov5/blob/master/tutorial.ipynb\"><img src=\"https://colab.research.google.com/assets/colab-badge.svg\" alt=\"Open In Colab\"></a>\n",
        "  <a href=\"https://www.kaggle.com/ultralytics/yolov5\"><img src=\"https://kaggle.com/static/images/open-in-kaggle.svg\" alt=\"Open In Kaggle\"></a>\n",
        "\n",
        "This <a href=\"https://github.com/ultralytics/yolov5\">YOLOv5</a> 🚀 notebook by <a href=\"https://ultralytics.com\">Ultralytics</a> presents simple train, validate and predict examples to help start your AI adventure.<br>We hope that the resources in this notebook will help you get the most out of YOLOv5. Please browse the YOLOv5 <a href=\"https://docs.ultralytics.com/yolov5\">Docs</a> for details, raise an issue on <a href=\"https://github.com/ultralytics/yolov5\">GitHub</a> for support, and join our <a href=\"https://ultralytics.com/discord\">Discord</a> community for questions and discussions!\n",
        "\n",
        "</div>"
      ]
    },
    {
      "cell_type": "markdown",
      "metadata": {
        "id": "7mGmQbAO5pQb"
      },
      "source": [
        "# Setup\n",
        "\n",
        "Clone GitHub [repository](https://github.com/ultralytics/yolov5), install [dependencies](https://github.com/ultralytics/yolov5/blob/master/requirements.txt) and check PyTorch and GPU."
      ]
    },
    {
      "cell_type": "code",
      "execution_count": 1,
      "metadata": {
        "colab": {
          "base_uri": "https://localhost:8080/"
        },
        "id": "wbvMlHd_QwMG",
        "outputId": "855600f0-5f49-4c80-a9de-e8babd3629dd"
      },
      "outputs": [
        {
          "name": "stderr",
          "output_type": "stream",
          "text": [
            "YOLOv5 🚀 v7.0-284-g95ebf68f Python-3.11.6 torch-2.1.2 CPU\n"
          ]
        },
        {
          "name": "stdout",
          "output_type": "stream",
          "text": [
            "Setup complete ✅ (10 CPUs, 16.0 GB RAM, 396.4/460.4 GB disk)\n"
          ]
        }
      ],
      "source": [
        "!git clone https://github.com/ultralytics/yolov5  # clone\n",
        "%cd yolov5\n",
        "%pip install -qr requirements.txt comet_ml  # install\n",
        "\n",
        "import torch\n",
        "import utils\n",
        "display = utils.notebook_init()  # checks"
      ]
    },
    {
      "cell_type": "code",
      "execution_count": 2,
      "metadata": {
        "id": "4s7T_H-dTE_u"
      },
      "outputs": [],
      "source": [
        "!unzip -q ../train_data.zip -d ../"
      ]
    },
    {
      "cell_type": "markdown",
      "metadata": {
        "id": "4JnkELT0cIJg"
      },
      "source": [
        "# 1. Detect\n",
        "\n",
        "`detect.py` runs YOLOv5 inference on a variety of sources, downloading models automatically from the [latest YOLOv5 release](https://github.com/ultralytics/yolov5/releases), and saving results to `runs/detect`. Example inference sources are:\n",
        "\n",
        "```shell\n",
        "python detect.py --source 0  # webcam\n",
        "                          img.jpg  # image\n",
        "                          vid.mp4  # video\n",
        "                          screen  # screenshot\n",
        "                          path/  # directory\n",
        "                         'path/*.jpg'  # glob\n",
        "                         'https://youtu.be/LNwODJXcvt4'  # YouTube\n",
        "                         'rtsp://example.com/media.mp4'  # RTSP, RTMP, HTTP stream\n",
        "```"
      ]
    },
    {
      "cell_type": "code",
      "execution_count": null,
      "metadata": {
        "colab": {
          "base_uri": "https://localhost:8080/"
        },
        "id": "zR9ZbuQCH7FX",
        "outputId": "a175132b-f132-475d-96f6-0e3e2a013c6b"
      },
      "outputs": [
        {
          "name": "stdout",
          "output_type": "stream",
          "text": [
            "\u001b[34m\u001b[1mdetect: \u001b[0mweights=['runs/train/exp/weights/last.pt'], source=../video1.mp4, data=data/coco128.yaml, imgsz=[640, 640], conf_thres=0.25, iou_thres=0.45, max_det=1000, device=, view_img=False, save_txt=False, save_csv=False, save_conf=False, save_crop=False, nosave=False, classes=None, agnostic_nms=False, augment=False, visualize=False, update=False, project=runs/detect, name=exp, exist_ok=False, line_thickness=3, hide_labels=False, hide_conf=False, half=False, dnn=False, vid_stride=1\n",
            "YOLOv5 🚀 v7.0-284-g95ebf68f Python-3.10.12 torch-2.1.0+cu121 CUDA:0 (Tesla T4, 15102MiB)\n",
            "\n",
            "Fusing layers... \n",
            "Model summary: 157 layers, 7018216 parameters, 0 gradients, 15.8 GFLOPs\n",
            "video 1/1 (1/227) /content/video1.mp4: 384x640 6 Cars, 4 Motobiles, 15 Persons, 51.8ms\n",
            "video 1/1 (2/227) /content/video1.mp4: 384x640 6 Cars, 2 Motobiles, 18 Persons, 9.0ms\n",
            "video 1/1 (3/227) /content/video1.mp4: 384x640 6 Cars, 4 Motobiles, 17 Persons, 9.0ms\n",
            "video 1/1 (4/227) /content/video1.mp4: 384x640 6 Cars, 1 Motobile, 14 Persons, 10.4ms\n",
            "video 1/1 (5/227) /content/video1.mp4: 384x640 8 Cars, 4 Motobiles, 12 Persons, 9.2ms\n",
            "video 1/1 (6/227) /content/video1.mp4: 384x640 7 Cars, 10 Persons, 9.6ms\n",
            "video 1/1 (7/227) /content/video1.mp4: 384x640 8 Cars, 2 Motobiles, 7 Persons, 9.0ms\n",
            "video 1/1 (8/227) /content/video1.mp4: 384x640 7 Cars, 1 Motobile, 14 Persons, 9.0ms\n",
            "video 1/1 (9/227) /content/video1.mp4: 384x640 5 Cars, 2 Motobiles, 16 Persons, 9.1ms\n",
            "video 1/1 (10/227) /content/video1.mp4: 384x640 7 Cars, 3 Motobiles, 12 Persons, 9.4ms\n",
            "video 1/1 (11/227) /content/video1.mp4: 384x640 7 Cars, 3 Motobiles, 12 Persons, 9.5ms\n",
            "video 1/1 (12/227) /content/video1.mp4: 384x640 8 Cars, 5 Motobiles, 9 Persons, 9.3ms\n",
            "video 1/1 (13/227) /content/video1.mp4: 384x640 10 Cars, 3 Motobiles, 12 Persons, 9.0ms\n",
            "video 1/1 (14/227) /content/video1.mp4: 384x640 7 Cars, 3 Motobiles, 11 Persons, 9.1ms\n",
            "video 1/1 (15/227) /content/video1.mp4: 384x640 7 Cars, 3 Motobiles, 13 Persons, 9.0ms\n",
            "video 1/1 (16/227) /content/video1.mp4: 384x640 10 Cars, 5 Motobiles, 13 Persons, 10.1ms\n",
            "video 1/1 (17/227) /content/video1.mp4: 384x640 9 Cars, 3 Motobiles, 12 Persons, 8.9ms\n",
            "video 1/1 (18/227) /content/video1.mp4: 384x640 7 Cars, 2 Motobiles, 9 Persons, 9.6ms\n",
            "video 1/1 (19/227) /content/video1.mp4: 384x640 7 Cars, 4 Motobiles, 18 Persons, 9.2ms\n",
            "video 1/1 (20/227) /content/video1.mp4: 384x640 5 Cars, 2 Motobiles, 15 Persons, 10.5ms\n",
            "video 1/1 (21/227) /content/video1.mp4: 384x640 5 Cars, 2 Motobiles, 14 Persons, 9.1ms\n",
            "video 1/1 (22/227) /content/video1.mp4: 384x640 8 Cars, 4 Motobiles, 18 Persons, 9.3ms\n",
            "video 1/1 (23/227) /content/video1.mp4: 384x640 8 Cars, 3 Motobiles, 16 Persons, 10.6ms\n",
            "video 1/1 (24/227) /content/video1.mp4: 384x640 8 Cars, 2 Motobiles, 16 Persons, 9.4ms\n",
            "video 1/1 (25/227) /content/video1.mp4: 384x640 8 Cars, 3 Motobiles, 18 Persons, 9.2ms\n",
            "video 1/1 (26/227) /content/video1.mp4: 384x640 8 Cars, 4 Motobiles, 16 Persons, 10.6ms\n",
            "video 1/1 (27/227) /content/video1.mp4: 384x640 9 Cars, 2 Motobiles, 16 Persons, 11.0ms\n",
            "video 1/1 (28/227) /content/video1.mp4: 384x640 8 Cars, 4 Motobiles, 16 Persons, 9.6ms\n",
            "video 1/1 (29/227) /content/video1.mp4: 384x640 11 Cars, 2 Motobiles, 17 Persons, 11.1ms\n",
            "video 1/1 (30/227) /content/video1.mp4: 384x640 7 Cars, 2 Motobiles, 18 Persons, 9.0ms\n",
            "video 1/1 (31/227) /content/video1.mp4: 384x640 10 Cars, 3 Motobiles, 17 Persons, 9.4ms\n",
            "video 1/1 (32/227) /content/video1.mp4: 384x640 7 Cars, 3 Motobiles, 16 Persons, 9.4ms\n",
            "video 1/1 (33/227) /content/video1.mp4: 384x640 6 Cars, 3 Motobiles, 16 Persons, 10.5ms\n",
            "video 1/1 (34/227) /content/video1.mp4: 384x640 7 Cars, 2 Motobiles, 18 Persons, 10.0ms\n",
            "video 1/1 (35/227) /content/video1.mp4: 384x640 7 Cars, 6 Motobiles, 15 Persons, 9.4ms\n",
            "video 1/1 (36/227) /content/video1.mp4: 384x640 7 Cars, 6 Motobiles, 12 Persons, 9.4ms\n",
            "video 1/1 (37/227) /content/video1.mp4: 384x640 7 Cars, 3 Motobiles, 14 Persons, 9.2ms\n",
            "video 1/1 (38/227) /content/video1.mp4: 384x640 10 Cars, 3 Motobiles, 12 Persons, 10.1ms\n",
            "video 1/1 (39/227) /content/video1.mp4: 384x640 11 Cars, 4 Motobiles, 16 Persons, 10.0ms\n",
            "video 1/1 (40/227) /content/video1.mp4: 384x640 9 Cars, 3 Motobiles, 13 Persons, 9.7ms\n",
            "video 1/1 (41/227) /content/video1.mp4: 384x640 10 Cars, 1 Motobile, 13 Persons, 10.0ms\n",
            "video 1/1 (42/227) /content/video1.mp4: 384x640 10 Cars, 2 Motobiles, 13 Persons, 9.3ms\n",
            "video 1/1 (43/227) /content/video1.mp4: 384x640 10 Cars, 2 Motobiles, 11 Persons, 9.8ms\n",
            "video 1/1 (44/227) /content/video1.mp4: 384x640 5 Cars, 2 Motobiles, 12 Persons, 9.1ms\n",
            "video 1/1 (45/227) /content/video1.mp4: 384x640 5 Cars, 2 Motobiles, 10 Persons, 9.0ms\n",
            "video 1/1 (46/227) /content/video1.mp4: 384x640 7 Cars, 3 Motobiles, 9 Persons, 18.1ms\n",
            "video 1/1 (47/227) /content/video1.mp4: 384x640 8 Cars, 4 Motobiles, 9 Persons, 24.4ms\n",
            "video 1/1 (48/227) /content/video1.mp4: 384x640 8 Cars, 4 Motobiles, 11 Persons, 17.2ms\n",
            "video 1/1 (49/227) /content/video1.mp4: 384x640 8 Cars, 4 Motobiles, 11 Persons, 17.8ms\n",
            "video 1/1 (50/227) /content/video1.mp4: 384x640 6 Cars, 5 Motobiles, 7 Persons, 8.5ms\n",
            "video 1/1 (51/227) /content/video1.mp4: 384x640 7 Cars, 3 Motobiles, 7 Persons, 8.1ms\n",
            "video 1/1 (52/227) /content/video1.mp4: 384x640 4 Cars, 4 Motobiles, 12 Persons, 13.8ms\n",
            "video 1/1 (53/227) /content/video1.mp4: 384x640 5 Cars, 5 Motobiles, 11 Persons, 8.2ms\n",
            "video 1/1 (54/227) /content/video1.mp4: 384x640 7 Cars, 2 Motobiles, 7 Persons, 10.5ms\n",
            "video 1/1 (55/227) /content/video1.mp4: 384x640 7 Cars, 1 Motobile, 8 Persons, 10.9ms\n",
            "video 1/1 (56/227) /content/video1.mp4: 384x640 6 Cars, 3 Motobiles, 9 Persons, 23.8ms\n",
            "video 1/1 (57/227) /content/video1.mp4: 384x640 6 Cars, 3 Motobiles, 10 Persons, 15.7ms\n",
            "video 1/1 (58/227) /content/video1.mp4: 384x640 8 Cars, 2 Motobiles, 6 Persons, 10.1ms\n",
            "video 1/1 (59/227) /content/video1.mp4: 384x640 6 Cars, 3 Motobiles, 7 Persons, 9.7ms\n",
            "video 1/1 (60/227) /content/video1.mp4: 384x640 6 Cars, 2 Motobiles, 8 Persons, 9.3ms\n",
            "video 1/1 (61/227) /content/video1.mp4: 384x640 5 Cars, 3 Motobiles, 9 Persons, 8.9ms\n",
            "video 1/1 (62/227) /content/video1.mp4: 384x640 7 Cars, 3 Motobiles, 7 Persons, 9.0ms\n",
            "video 1/1 (63/227) /content/video1.mp4: 384x640 8 Cars, 1 Motobile, 7 Persons, 9.2ms\n",
            "video 1/1 (64/227) /content/video1.mp4: 384x640 7 Cars, 1 Motobile, 8 Persons, 10.3ms\n",
            "video 1/1 (65/227) /content/video1.mp4: 384x640 10 Cars, 2 Motobiles, 8 Persons, 8.9ms\n",
            "video 1/1 (66/227) /content/video1.mp4: 384x640 7 Cars, 1 Motobile, 9 Persons, 19.7ms\n",
            "video 1/1 (67/227) /content/video1.mp4: 384x640 8 Cars, 1 Motobile, 6 Persons, 9.3ms\n",
            "video 1/1 (68/227) /content/video1.mp4: 384x640 7 Cars, 2 Motobiles, 6 Persons, 9.0ms\n",
            "video 1/1 (69/227) /content/video1.mp4: 384x640 5 Cars, 3 Motobiles, 6 Persons, 8.9ms\n",
            "video 1/1 (70/227) /content/video1.mp4: 384x640 5 Cars, 3 Motobiles, 8 Persons, 8.8ms\n",
            "video 1/1 (71/227) /content/video1.mp4: 384x640 6 Cars, 2 Motobiles, 7 Persons, 9.5ms\n",
            "video 1/1 (72/227) /content/video1.mp4: 384x640 7 Cars, 2 Motobiles, 8 Persons, 9.4ms\n",
            "video 1/1 (73/227) /content/video1.mp4: 384x640 7 Cars, 3 Motobiles, 9 Persons, 19.3ms\n",
            "video 1/1 (74/227) /content/video1.mp4: 384x640 5 Cars, 3 Motobiles, 8 Persons, 10.8ms\n",
            "video 1/1 (75/227) /content/video1.mp4: 384x640 6 Cars, 2 Motobiles, 7 Persons, 8.8ms\n",
            "video 1/1 (76/227) /content/video1.mp4: 384x640 5 Cars, 2 Motobiles, 9 Persons, 9.0ms\n",
            "video 1/1 (77/227) /content/video1.mp4: 384x640 5 Cars, 3 Motobiles, 10 Persons, 9.2ms\n",
            "video 1/1 (78/227) /content/video1.mp4: 384x640 6 Cars, 4 Motobiles, 10 Persons, 9.2ms\n",
            "video 1/1 (79/227) /content/video1.mp4: 384x640 7 Cars, 1 Motobile, 10 Persons, 9.0ms\n",
            "video 1/1 (80/227) /content/video1.mp4: 384x640 10 Cars, 2 Motobiles, 10 Persons, 9.3ms\n",
            "video 1/1 (81/227) /content/video1.mp4: 384x640 7 Cars, 2 Motobiles, 9 Persons, 13.5ms\n",
            "video 1/1 (82/227) /content/video1.mp4: 384x640 6 Cars, 3 Motobiles, 10 Persons, 9.3ms\n",
            "video 1/1 (83/227) /content/video1.mp4: 384x640 9 Cars, 4 Motobiles, 9 Persons, 8.8ms\n",
            "video 1/1 (84/227) /content/video1.mp4: 384x640 8 Cars, 4 Motobiles, 9 Persons, 10.5ms\n",
            "video 1/1 (85/227) /content/video1.mp4: 384x640 8 Cars, 3 Motobiles, 6 Persons, 10.2ms\n",
            "video 1/1 (86/227) /content/video1.mp4: 384x640 7 Cars, 2 Motobiles, 8 Persons, 9.5ms\n",
            "video 1/1 (87/227) /content/video1.mp4: 384x640 9 Cars, 3 Motobiles, 7 Persons, 10.2ms\n",
            "video 1/1 (88/227) /content/video1.mp4: 384x640 7 Cars, 3 Motobiles, 7 Persons, 9.1ms\n",
            "video 1/1 (89/227) /content/video1.mp4: 384x640 7 Cars, 2 Motobiles, 5 Persons, 9.2ms\n",
            "video 1/1 (90/227) /content/video1.mp4: 384x640 8 Cars, 4 Motobiles, 5 Persons, 9.5ms\n",
            "video 1/1 (91/227) /content/video1.mp4: 384x640 9 Cars, 3 Motobiles, 4 Persons, 9.0ms\n",
            "video 1/1 (92/227) /content/video1.mp4: 384x640 5 Cars, 3 Motobiles, 6 Persons, 9.0ms\n",
            "video 1/1 (93/227) /content/video1.mp4: 384x640 7 Cars, 2 Motobiles, 9 Persons, 9.1ms\n",
            "video 1/1 (94/227) /content/video1.mp4: 384x640 6 Cars, 2 Motobiles, 7 Persons, 11.4ms\n",
            "video 1/1 (95/227) /content/video1.mp4: 384x640 6 Cars, 1 Motobile, 8 Persons, 9.3ms\n",
            "video 1/1 (96/227) /content/video1.mp4: 384x640 7 Cars, 2 Motobiles, 7 Persons, 12.4ms\n",
            "video 1/1 (97/227) /content/video1.mp4: 384x640 8 Cars, 2 Motobiles, 7 Persons, 8.9ms\n",
            "video 1/1 (98/227) /content/video1.mp4: 384x640 6 Cars, 2 Motobiles, 6 Persons, 9.2ms\n",
            "video 1/1 (99/227) /content/video1.mp4: 384x640 5 Cars, 2 Motobiles, 8 Persons, 8.8ms\n",
            "video 1/1 (100/227) /content/video1.mp4: 384x640 6 Cars, 2 Motobiles, 9 Persons, 9.1ms\n",
            "video 1/1 (101/227) /content/video1.mp4: 384x640 6 Cars, 3 Motobiles, 13 Persons, 8.9ms\n",
            "video 1/1 (102/227) /content/video1.mp4: 384x640 7 Cars, 3 Motobiles, 10 Persons, 9.4ms\n",
            "video 1/1 (103/227) /content/video1.mp4: 384x640 6 Cars, 4 Motobiles, 13 Persons, 9.6ms\n",
            "video 1/1 (104/227) /content/video1.mp4: 384x640 7 Cars, 4 Motobiles, 12 Persons, 10.2ms\n",
            "video 1/1 (105/227) /content/video1.mp4: 384x640 7 Cars, 2 Motobiles, 11 Persons, 9.1ms\n",
            "video 1/1 (106/227) /content/video1.mp4: 384x640 7 Cars, 4 Motobiles, 12 Persons, 9.9ms\n",
            "video 1/1 (107/227) /content/video1.mp4: 384x640 5 Cars, 3 Motobiles, 11 Persons, 9.6ms\n",
            "video 1/1 (108/227) /content/video1.mp4: 384x640 7 Cars, 3 Motobiles, 12 Persons, 9.4ms\n",
            "video 1/1 (109/227) /content/video1.mp4: 384x640 7 Cars, 2 Motobiles, 12 Persons, 9.1ms\n",
            "video 1/1 (110/227) /content/video1.mp4: 384x640 6 Cars, 3 Motobiles, 12 Persons, 9.3ms\n",
            "video 1/1 (111/227) /content/video1.mp4: 384x640 8 Cars, 3 Motobiles, 12 Persons, 9.4ms\n",
            "video 1/1 (112/227) /content/video1.mp4: 384x640 8 Cars, 3 Motobiles, 12 Persons, 12.9ms\n",
            "video 1/1 (113/227) /content/video1.mp4: 384x640 6 Cars, 2 Motobiles, 16 Persons, 9.3ms\n",
            "video 1/1 (114/227) /content/video1.mp4: 384x640 5 Cars, 2 Motobiles, 14 Persons, 18.4ms\n",
            "video 1/1 (115/227) /content/video1.mp4: 384x640 7 Cars, 3 Motobiles, 12 Persons, 9.4ms\n",
            "video 1/1 (116/227) /content/video1.mp4: 384x640 6 Cars, 4 Motobiles, 12 Persons, 9.2ms\n",
            "video 1/1 (117/227) /content/video1.mp4: 384x640 7 Cars, 4 Motobiles, 12 Persons, 9.5ms\n",
            "video 1/1 (118/227) /content/video1.mp4: 384x640 6 Cars, 2 Motobiles, 10 Persons, 9.2ms\n",
            "video 1/1 (119/227) /content/video1.mp4: 384x640 5 Cars, 3 Motobiles, 11 Persons, 9.3ms\n",
            "video 1/1 (120/227) /content/video1.mp4: 384x640 6 Cars, 2 Motobiles, 10 Persons, 9.6ms\n",
            "video 1/1 (121/227) /content/video1.mp4: 384x640 6 Cars, 3 Motobiles, 13 Persons, 9.4ms\n",
            "video 1/1 (122/227) /content/video1.mp4: 384x640 5 Cars, 2 Motobiles, 11 Persons, 9.8ms\n",
            "video 1/1 (123/227) /content/video1.mp4: 384x640 5 Cars, 3 Motobiles, 11 Persons, 9.0ms\n",
            "video 1/1 (124/227) /content/video1.mp4: 384x640 6 Cars, 4 Motobiles, 11 Persons, 9.2ms\n",
            "video 1/1 (125/227) /content/video1.mp4: 384x640 5 Cars, 5 Motobiles, 6 Persons, 9.0ms\n",
            "video 1/1 (126/227) /content/video1.mp4: 384x640 5 Cars, 2 Motobiles, 9 Persons, 10.6ms\n",
            "video 1/1 (127/227) /content/video1.mp4: 384x640 5 Cars, 3 Motobiles, 11 Persons, 9.8ms\n",
            "video 1/1 (128/227) /content/video1.mp4: 384x640 6 Cars, 3 Motobiles, 13 Persons, 9.7ms\n",
            "video 1/1 (129/227) /content/video1.mp4: 384x640 5 Cars, 1 Motobile, 13 Persons, 9.1ms\n",
            "video 1/1 (130/227) /content/video1.mp4: 384x640 6 Cars, 2 Motobiles, 14 Persons, 9.0ms\n",
            "video 1/1 (131/227) /content/video1.mp4: 384x640 6 Cars, 3 Motobiles, 13 Persons, 9.4ms\n",
            "video 1/1 (132/227) /content/video1.mp4: 384x640 6 Cars, 5 Motobiles, 14 Persons, 9.0ms\n",
            "video 1/1 (133/227) /content/video1.mp4: 384x640 5 Cars, 2 Motobiles, 17 Persons, 8.9ms\n",
            "video 1/1 (134/227) /content/video1.mp4: 384x640 5 Cars, 4 Motobiles, 19 Persons, 9.6ms\n",
            "video 1/1 (135/227) /content/video1.mp4: 384x640 5 Cars, 3 Motobiles, 16 Persons, 9.2ms\n",
            "video 1/1 (136/227) /content/video1.mp4: 384x640 6 Cars, 2 Motobiles, 17 Persons, 10.7ms\n",
            "video 1/1 (137/227) /content/video1.mp4: 384x640 5 Cars, 3 Motobiles, 18 Persons, 8.2ms\n",
            "video 1/1 (138/227) /content/video1.mp4: 384x640 5 Cars, 1 Motobile, 16 Persons, 8.6ms\n",
            "video 1/1 (139/227) /content/video1.mp4: 384x640 5 Cars, 1 Motobile, 16 Persons, 15.5ms\n",
            "video 1/1 (140/227) /content/video1.mp4: 384x640 2 Cars, 11 Persons, 15.1ms\n",
            "video 1/1 (141/227) /content/video1.mp4: 384x640 2 Cars, 16 Persons, 7.9ms\n",
            "video 1/1 (142/227) /content/video1.mp4: 384x640 18 Persons, 10.4ms\n",
            "video 1/1 (143/227) /content/video1.mp4: 384x640 13 Persons, 19.9ms\n",
            "video 1/1 (144/227) /content/video1.mp4: 384x640 1 Car, 1 Motobile, 14 Persons, 9.3ms\n",
            "video 1/1 (145/227) /content/video1.mp4: 384x640 2 Motobiles, 16 Persons, 9.4ms\n",
            "video 1/1 (146/227) /content/video1.mp4: 384x640 2 Cars, 3 Motobiles, 16 Persons, 17.0ms\n",
            "video 1/1 (147/227) /content/video1.mp4: 384x640 1 Car, 2 Motobiles, 16 Persons, 24.9ms\n",
            "video 1/1 (148/227) /content/video1.mp4: 384x640 4 Cars, 1 Motobile, 13 Persons, 9.5ms\n",
            "video 1/1 (149/227) /content/video1.mp4: 384x640 6 Cars, 4 Motobiles, 14 Persons, 9.2ms\n",
            "video 1/1 (150/227) /content/video1.mp4: 384x640 6 Cars, 2 Motobiles, 13 Persons, 8.6ms\n",
            "video 1/1 (151/227) /content/video1.mp4: 384x640 6 Cars, 4 Motobiles, 13 Persons, 9.0ms\n",
            "video 1/1 (152/227) /content/video1.mp4: 384x640 6 Cars, 2 Motobiles, 13 Persons, 9.4ms\n",
            "video 1/1 (153/227) /content/video1.mp4: 384x640 6 Cars, 1 Motobile, 13 Persons, 10.9ms\n",
            "video 1/1 (154/227) /content/video1.mp4: 384x640 5 Cars, 14 Persons, 9.2ms\n",
            "video 1/1 (155/227) /content/video1.mp4: 384x640 5 Cars, 1 Motobile, 18 Persons, 9.1ms\n",
            "video 1/1 (156/227) /content/video1.mp4: 384x640 6 Cars, 3 Motobiles, 16 Persons, 9.4ms\n",
            "video 1/1 (157/227) /content/video1.mp4: 384x640 5 Cars, 3 Motobiles, 19 Persons, 9.3ms\n",
            "video 1/1 (158/227) /content/video1.mp4: 384x640 5 Cars, 4 Motobiles, 20 Persons, 9.6ms\n",
            "video 1/1 (159/227) /content/video1.mp4: 384x640 6 Cars, 2 Motobiles, 18 Persons, 9.4ms\n",
            "video 1/1 (160/227) /content/video1.mp4: 384x640 5 Cars, 2 Motobiles, 15 Persons, 9.1ms\n",
            "video 1/1 (161/227) /content/video1.mp4: 384x640 6 Cars, 3 Motobiles, 17 Persons, 8.8ms\n",
            "video 1/1 (162/227) /content/video1.mp4: 384x640 5 Cars, 4 Motobiles, 17 Persons, 9.9ms\n",
            "video 1/1 (163/227) /content/video1.mp4: 384x640 6 Cars, 2 Motobiles, 15 Persons, 13.6ms\n",
            "video 1/1 (164/227) /content/video1.mp4: 384x640 5 Cars, 5 Motobiles, 15 Persons, 9.8ms\n",
            "video 1/1 (165/227) /content/video1.mp4: 384x640 6 Cars, 5 Motobiles, 16 Persons, 8.9ms\n",
            "video 1/1 (166/227) /content/video1.mp4: 384x640 5 Cars, 5 Motobiles, 17 Persons, 8.9ms\n",
            "video 1/1 (167/227) /content/video1.mp4: 384x640 6 Cars, 1 Motobile, 14 Persons, 12.1ms\n",
            "video 1/1 (168/227) /content/video1.mp4: 384x640 5 Cars, 2 Motobiles, 15 Persons, 9.3ms\n",
            "video 1/1 (169/227) /content/video1.mp4: 384x640 2 Cars, 1 Motobile, 16 Persons, 9.1ms\n",
            "video 1/1 (170/227) /content/video1.mp4: 384x640 3 Cars, 2 Motobiles, 18 Persons, 9.3ms\n",
            "video 1/1 (171/227) /content/video1.mp4: 384x640 3 Cars, 3 Motobiles, 16 Persons, 12.9ms\n",
            "video 1/1 (172/227) /content/video1.mp4: 384x640 1 Car, 2 Motobiles, 14 Persons, 9.0ms\n",
            "video 1/1 (173/227) /content/video1.mp4: 384x640 2 Cars, 15 Persons, 9.2ms\n",
            "video 1/1 (174/227) /content/video1.mp4: 384x640 4 Cars, 4 Motobiles, 17 Persons, 10.0ms\n",
            "video 1/1 (175/227) /content/video1.mp4: 384x640 5 Cars, 4 Motobiles, 16 Persons, 18.7ms\n",
            "video 1/1 (176/227) /content/video1.mp4: 384x640 6 Cars, 6 Motobiles, 15 Persons, 9.3ms\n",
            "video 1/1 (177/227) /content/video1.mp4: 384x640 6 Cars, 2 Motobiles, 17 Persons, 9.3ms\n",
            "video 1/1 (178/227) /content/video1.mp4: 384x640 8 Cars, 3 Motobiles, 16 Persons, 9.5ms\n",
            "video 1/1 (179/227) /content/video1.mp4: 384x640 8 Cars, 6 Motobiles, 15 Persons, 9.2ms\n",
            "video 1/1 (180/227) /content/video1.mp4: 384x640 8 Cars, 5 Motobiles, 15 Persons, 9.3ms\n",
            "video 1/1 (181/227) /content/video1.mp4: 384x640 5 Cars, 5 Motobiles, 14 Persons, 9.7ms\n",
            "video 1/1 (182/227) /content/video1.mp4: 384x640 8 Cars, 2 Motobiles, 17 Persons, 9.3ms\n",
            "video 1/1 (183/227) /content/video1.mp4: 384x640 9 Cars, 3 Motobiles, 18 Persons, 9.3ms\n",
            "video 1/1 (184/227) /content/video1.mp4: 384x640 9 Cars, 2 Motobiles, 17 Persons, 9.8ms\n",
            "video 1/1 (185/227) /content/video1.mp4: 384x640 8 Cars, 3 Motobiles, 14 Persons, 9.6ms\n",
            "video 1/1 (186/227) /content/video1.mp4: 384x640 6 Cars, 4 Motobiles, 15 Persons, 10.7ms\n",
            "video 1/1 (187/227) /content/video1.mp4: 384x640 9 Cars, 2 Motobiles, 16 Persons, 8.8ms\n",
            "video 1/1 (188/227) /content/video1.mp4: 384x640 11 Cars, 1 Motobile, 13 Persons, 9.6ms\n",
            "video 1/1 (189/227) /content/video1.mp4: 384x640 10 Cars, 5 Motobiles, 13 Persons, 21.5ms\n",
            "video 1/1 (190/227) /content/video1.mp4: 384x640 11 Cars, 4 Motobiles, 14 Persons, 8.9ms\n",
            "video 1/1 (191/227) /content/video1.mp4: 384x640 10 Cars, 3 Motobiles, 14 Persons, 9.5ms\n",
            "video 1/1 (192/227) /content/video1.mp4: 384x640 9 Cars, 2 Motobiles, 14 Persons, 9.2ms\n",
            "video 1/1 (193/227) /content/video1.mp4: 384x640 10 Cars, 2 Motobiles, 13 Persons, 10.1ms\n",
            "video 1/1 (194/227) /content/video1.mp4: 384x640 8 Cars, 3 Motobiles, 12 Persons, 9.5ms\n",
            "video 1/1 (195/227) /content/video1.mp4: 384x640 10 Cars, 5 Motobiles, 9 Persons, 9.7ms\n",
            "video 1/1 (196/227) /content/video1.mp4: 384x640 8 Cars, 5 Motobiles, 10 Persons, 9.5ms\n",
            "video 1/1 (197/227) /content/video1.mp4: 384x640 10 Cars, 6 Motobiles, 11 Persons, 9.0ms\n",
            "video 1/1 (198/227) /content/video1.mp4: 384x640 9 Cars, 4 Motobiles, 13 Persons, 9.7ms\n",
            "video 1/1 (199/227) /content/video1.mp4: 384x640 5 Cars, 5 Motobiles, 13 Persons, 9.1ms\n",
            "video 1/1 (200/227) /content/video1.mp4: 384x640 9 Cars, 6 Motobiles, 12 Persons, 9.0ms\n",
            "video 1/1 (201/227) /content/video1.mp4: 384x640 8 Cars, 5 Motobiles, 11 Persons, 9.2ms\n",
            "video 1/1 (202/227) /content/video1.mp4: 384x640 9 Cars, 5 Motobiles, 12 Persons, 9.5ms\n",
            "video 1/1 (203/227) /content/video1.mp4: 384x640 6 Cars, 5 Motobiles, 11 Persons, 9.2ms\n",
            "video 1/1 (204/227) /content/video1.mp4: 384x640 10 Cars, 5 Motobiles, 12 Persons, 9.1ms\n",
            "video 1/1 (205/227) /content/video1.mp4: 384x640 10 Cars, 5 Motobiles, 11 Persons, 9.7ms\n",
            "video 1/1 (206/227) /content/video1.mp4: 384x640 6 Cars, 4 Motobiles, 16 Persons, 9.2ms\n",
            "video 1/1 (207/227) /content/video1.mp4: 384x640 5 Cars, 5 Motobiles, 12 Persons, 9.3ms\n",
            "video 1/1 (208/227) /content/video1.mp4: 384x640 7 Cars, 6 Motobiles, 14 Persons, 9.1ms\n",
            "video 1/1 (209/227) /content/video1.mp4: 384x640 5 Cars, 3 Motobiles, 9 Persons, 9.2ms\n",
            "video 1/1 (210/227) /content/video1.mp4: 384x640 7 Cars, 2 Motobiles, 11 Persons, 9.3ms\n",
            "video 1/1 (211/227) /content/video1.mp4: 384x640 10 Cars, 3 Motobiles, 10 Persons, 9.1ms\n",
            "video 1/1 (212/227) /content/video1.mp4: 384x640 7 Cars, 3 Motobiles, 10 Persons, 9.2ms\n",
            "video 1/1 (213/227) /content/video1.mp4: 384x640 9 Cars, 4 Motobiles, 9 Persons, 9.4ms\n",
            "video 1/1 (214/227) /content/video1.mp4: 384x640 9 Cars, 4 Motobiles, 11 Persons, 9.2ms\n",
            "video 1/1 (215/227) /content/video1.mp4: 384x640 9 Cars, 3 Motobiles, 12 Persons, 9.3ms\n",
            "video 1/1 (216/227) /content/video1.mp4: 384x640 6 Cars, 2 Motobiles, 15 Persons, 9.1ms\n",
            "video 1/1 (217/227) /content/video1.mp4: 384x640 9 Cars, 2 Motobiles, 17 Persons, 9.3ms\n",
            "video 1/1 (218/227) /content/video1.mp4: 384x640 7 Cars, 2 Motobiles, 16 Persons, 9.6ms\n",
            "video 1/1 (219/227) /content/video1.mp4: 384x640 7 Cars, 2 Motobiles, 12 Persons, 10.2ms\n",
            "video 1/1 (220/227) /content/video1.mp4: 384x640 8 Cars, 2 Motobiles, 9 Persons, 9.3ms\n",
            "video 1/1 (221/227) /content/video1.mp4: 384x640 8 Cars, 2 Motobiles, 12 Persons, 10.7ms\n",
            "video 1/1 (222/227) /content/video1.mp4: 384x640 5 Cars, 3 Motobiles, 11 Persons, 9.8ms\n",
            "video 1/1 (223/227) /content/video1.mp4: 384x640 8 Cars, 3 Motobiles, 13 Persons, 12.1ms\n",
            "video 1/1 (224/227) /content/video1.mp4: 384x640 11 Cars, 3 Motobiles, 12 Persons, 15.0ms\n",
            "video 1/1 (225/227) /content/video1.mp4: 384x640 9 Cars, 3 Motobiles, 8 Persons, 8.3ms\n",
            "video 1/1 (226/227) /content/video1.mp4: 384x640 8 Cars, 4 Motobiles, 13 Persons, 8.0ms\n",
            "video 1/1 (227/227) /content/video1.mp4: 384x640 8 Cars, 4 Motobiles, 11 Persons, 9.8ms\n",
            "Speed: 0.6ms pre-process, 10.4ms inference, 3.8ms NMS per image at shape (1, 3, 640, 640)\n",
            "Results saved to \u001b[1mruns/detect/exp3\u001b[0m\n"
          ]
        }
      ],
      "source": [
        "!python detect.py --weights runs/train/exp/weights/last.pt --img 640 --conf 0.25 --source ../video1.mp4\n",
        "# display.Image(filename='runs/detect/exp/zidane.jpg', width=600)"
      ]
    },
    {
      "cell_type": "code",
      "execution_count": null,
      "metadata": {
        "colab": {
          "base_uri": "https://localhost:8080/"
        },
        "id": "0pjRin7_O2pC",
        "outputId": "fbae73e2-1449-4a49-b15e-c7ef9cb907f8"
      },
      "outputs": [
        {
          "name": "stdout",
          "output_type": "stream",
          "text": [
            "Mounted at /content/drive\n"
          ]
        }
      ],
      "source": [
        "from google.colab import drive\n",
        "drive.mount('/content/drive')"
      ]
    },
    {
      "cell_type": "markdown",
      "metadata": {
        "id": "hkAzDWJ7cWTr"
      },
      "source": [
        "&nbsp;&nbsp;&nbsp;&nbsp;&nbsp;&nbsp;&nbsp;&nbsp;\n",
        "<img align=\"left\" src=\"https://user-images.githubusercontent.com/26833433/127574988-6a558aa1-d268-44b9-bf6b-62d4c605cc72.jpg\" width=\"600\">"
      ]
    },
    {
      "cell_type": "markdown",
      "metadata": {
        "id": "0eq1SMWl6Sfn"
      },
      "source": [
        "# 2. Validate\n",
        "Validate a model's accuracy on the [COCO](https://cocodataset.org/#home) dataset's `val` or `test` splits. Models are downloaded automatically from the [latest YOLOv5 release](https://github.com/ultralytics/yolov5/releases). To show results by class use the `--verbose` flag."
      ]
    },
    {
      "cell_type": "code",
      "execution_count": null,
      "metadata": {
        "colab": {
          "base_uri": "https://localhost:8080/"
        },
        "id": "WQPtK1QYVaD_",
        "outputId": "cf7d52f0-281c-4c96-a488-79f5908f8426"
      },
      "outputs": [
        {
          "name": "stderr",
          "output_type": "stream",
          "text": [
            "100%|██████████| 780M/780M [00:12<00:00, 66.6MB/s]\n"
          ]
        }
      ],
      "source": [
        "# Download COCO val\n",
        "torch.hub.download_url_to_file('https://ultralytics.com/assets/coco2017val.zip', 'tmp.zip')  # download (780M - 5000 images)\n",
        "!unzip -q tmp.zip -d ../datasets && rm tmp.zip  # unzip"
      ]
    },
    {
      "cell_type": "code",
      "execution_count": null,
      "metadata": {
        "colab": {
          "base_uri": "https://localhost:8080/"
        },
        "id": "X58w8JLpMnjH",
        "outputId": "3e234e05-ee8b-4ad1-b1a4-f6a55d5e4f3d"
      },
      "outputs": [
        {
          "name": "stdout",
          "output_type": "stream",
          "text": [
            "\u001b[34m\u001b[1mval: \u001b[0mdata=/content/yolov5/data/coco.yaml, weights=['yolov5s.pt'], batch_size=32, imgsz=640, conf_thres=0.001, iou_thres=0.6, max_det=300, task=val, device=, workers=8, single_cls=False, augment=False, verbose=False, save_txt=False, save_hybrid=False, save_conf=False, save_json=True, project=runs/val, name=exp, exist_ok=False, half=True, dnn=False\n",
            "YOLOv5 🚀 v7.0-136-g71244ae Python-3.9.16 torch-2.0.0+cu118 CUDA:0 (Tesla T4, 15102MiB)\n",
            "\n",
            "Fusing layers... \n",
            "YOLOv5s summary: 213 layers, 7225885 parameters, 0 gradients\n",
            "\u001b[34m\u001b[1mval: \u001b[0mScanning /content/datasets/coco/val2017... 4952 images, 48 backgrounds, 0 corrupt: 100% 5000/5000 [00:02<00:00, 2024.59it/s]\n",
            "\u001b[34m\u001b[1mval: \u001b[0mNew cache created: /content/datasets/coco/val2017.cache\n",
            "                 Class     Images  Instances          P          R      mAP50   mAP50-95: 100% 157/157 [01:25<00:00,  1.84it/s]\n",
            "                   all       5000      36335      0.671      0.519      0.566      0.371\n",
            "Speed: 0.1ms pre-process, 3.1ms inference, 2.3ms NMS per image at shape (32, 3, 640, 640)\n",
            "\n",
            "Evaluating pycocotools mAP... saving runs/val/exp/yolov5s_predictions.json...\n",
            "loading annotations into memory...\n",
            "Done (t=0.43s)\n",
            "creating index...\n",
            "index created!\n",
            "Loading and preparing results...\n",
            "DONE (t=5.32s)\n",
            "creating index...\n",
            "index created!\n",
            "Running per image evaluation...\n",
            "Evaluate annotation type *bbox*\n",
            "DONE (t=78.89s).\n",
            "Accumulating evaluation results...\n",
            "DONE (t=14.51s).\n",
            " Average Precision  (AP) @[ IoU=0.50:0.95 | area=   all | maxDets=100 ] = 0.374\n",
            " Average Precision  (AP) @[ IoU=0.50      | area=   all | maxDets=100 ] = 0.572\n",
            " Average Precision  (AP) @[ IoU=0.75      | area=   all | maxDets=100 ] = 0.402\n",
            " Average Precision  (AP) @[ IoU=0.50:0.95 | area= small | maxDets=100 ] = 0.211\n",
            " Average Precision  (AP) @[ IoU=0.50:0.95 | area=medium | maxDets=100 ] = 0.423\n",
            " Average Precision  (AP) @[ IoU=0.50:0.95 | area= large | maxDets=100 ] = 0.489\n",
            " Average Recall     (AR) @[ IoU=0.50:0.95 | area=   all | maxDets=  1 ] = 0.311\n",
            " Average Recall     (AR) @[ IoU=0.50:0.95 | area=   all | maxDets= 10 ] = 0.516\n",
            " Average Recall     (AR) @[ IoU=0.50:0.95 | area=   all | maxDets=100 ] = 0.566\n",
            " Average Recall     (AR) @[ IoU=0.50:0.95 | area= small | maxDets=100 ] = 0.378\n",
            " Average Recall     (AR) @[ IoU=0.50:0.95 | area=medium | maxDets=100 ] = 0.625\n",
            " Average Recall     (AR) @[ IoU=0.50:0.95 | area= large | maxDets=100 ] = 0.722\n",
            "Results saved to \u001b[1mruns/val/exp\u001b[0m\n"
          ]
        }
      ],
      "source": [
        "# Validate YOLOv5s on COCO val\n",
        "!python val.py --weights yolov5s.pt --data coco.yaml --img 640 --half"
      ]
    },
    {
      "cell_type": "markdown",
      "metadata": {
        "id": "ZY2VXXXu74w5"
      },
      "source": [
        "# 3. Train\n",
        "\n",
        "<p align=\"\"><a href=\"https://bit.ly/ultralytics_hub\"><img width=\"1000\" src=\"https://github.com/ultralytics/assets/raw/main/im/integrations-loop.png\"/></a></p>\n",
        "Close the active learning loop by sampling images from your inference conditions with the `roboflow` pip package\n",
        "<br><br>\n",
        "\n",
        "Train a YOLOv5s model on the [COCO128](https://www.kaggle.com/ultralytics/coco128) dataset with `--data coco128.yaml`, starting from pretrained `--weights yolov5s.pt`, or from randomly initialized `--weights '' --cfg yolov5s.yaml`.\n",
        "\n",
        "- **Pretrained [Models](https://github.com/ultralytics/yolov5/tree/master/models)** are downloaded\n",
        "automatically from the [latest YOLOv5 release](https://github.com/ultralytics/yolov5/releases)\n",
        "- **[Datasets](https://github.com/ultralytics/yolov5/tree/master/data)** available for autodownload include: [COCO](https://github.com/ultralytics/yolov5/blob/master/data/coco.yaml), [COCO128](https://github.com/ultralytics/yolov5/blob/master/data/coco128.yaml), [VOC](https://github.com/ultralytics/yolov5/blob/master/data/VOC.yaml), [Argoverse](https://github.com/ultralytics/yolov5/blob/master/data/Argoverse.yaml), [VisDrone](https://github.com/ultralytics/yolov5/blob/master/data/VisDrone.yaml), [GlobalWheat](https://github.com/ultralytics/yolov5/blob/master/data/GlobalWheat2020.yaml), [xView](https://github.com/ultralytics/yolov5/blob/master/data/xView.yaml), [Objects365](https://github.com/ultralytics/yolov5/blob/master/data/Objects365.yaml), [SKU-110K](https://github.com/ultralytics/yolov5/blob/master/data/SKU-110K.yaml).\n",
        "- **Training Results** are saved to `runs/train/` with incrementing run directories, i.e. `runs/train/exp2`, `runs/train/exp3` etc.\n",
        "<br>\n",
        "\n",
        "A **Mosaic Dataloader** is used for training which combines 4 images into 1 mosaic.\n",
        "\n",
        "## Label a dataset on Roboflow (optional)\n",
        "\n",
        "[Roboflow](https://roboflow.com/?ref=ultralytics) enables you to easily **organize, label, and prepare** a high quality dataset with your own custom data. Roboflow also makes it easy to establish an active learning pipeline, collaborate with your team on dataset improvement, and integrate directly into your model building workflow with the `roboflow` pip package."
      ]
    },
    {
      "cell_type": "code",
      "execution_count": null,
      "metadata": {
        "id": "i3oKtE4g-aNn"
      },
      "outputs": [],
      "source": [
        "#@title Select YOLOv5 🚀 logger {run: 'auto'}\n",
        "logger = 'Comet' #@param ['Comet', 'ClearML', 'TensorBoard']\n",
        "\n",
        "if logger == 'Comet':\n",
        "  %pip install -q comet_ml\n",
        "  import comet_ml; comet_ml.init()\n",
        "elif logger == 'ClearML':\n",
        "  %pip install -q clearml\n",
        "  import clearml; clearml.browser_login()\n",
        "elif logger == 'TensorBoard':\n",
        "  %load_ext tensorboard\n",
        "  %tensorboard --logdir runs/train"
      ]
    },
    {
      "cell_type": "code",
      "execution_count": 3,
      "metadata": {
        "colab": {
          "base_uri": "https://localhost:8080/"
        },
        "id": "1NcFxRcFdJ_O",
        "outputId": "00808bad-484e-4f44-b6e3-723b9f97b8c2"
      },
      "outputs": [
        {
          "name": "stdout",
          "output_type": "stream",
          "text": [
            "Requirement already satisfied: ultralytics in /opt/homebrew/lib/python3.11/site-packages (8.1.17)\n",
            "Requirement already satisfied: matplotlib>=3.3.0 in /opt/homebrew/lib/python3.11/site-packages (from ultralytics) (3.8.2)\n",
            "Requirement already satisfied: opencv-python>=4.6.0 in /opt/homebrew/lib/python3.11/site-packages (from ultralytics) (4.9.0.80)\n",
            "Requirement already satisfied: pillow>=7.1.2 in /opt/homebrew/lib/python3.11/site-packages (from ultralytics) (10.2.0)\n",
            "Requirement already satisfied: pyyaml>=5.3.1 in /opt/homebrew/lib/python3.11/site-packages (from ultralytics) (6.0)\n",
            "Requirement already satisfied: requests>=2.23.0 in /opt/homebrew/lib/python3.11/site-packages (from ultralytics) (2.31.0)\n",
            "Requirement already satisfied: scipy>=1.4.1 in /opt/homebrew/lib/python3.11/site-packages (from ultralytics) (1.11.4)\n",
            "Requirement already satisfied: torch>=1.8.0 in /opt/homebrew/lib/python3.11/site-packages (from ultralytics) (2.1.2)\n",
            "Requirement already satisfied: torchvision>=0.9.0 in /opt/homebrew/lib/python3.11/site-packages (from ultralytics) (0.16.2)\n",
            "Requirement already satisfied: tqdm>=4.64.0 in /opt/homebrew/lib/python3.11/site-packages (from ultralytics) (4.64.1)\n",
            "Requirement already satisfied: psutil in /Users/phongngo/Library/Python/3.11/lib/python/site-packages (from ultralytics) (5.9.8)\n",
            "Requirement already satisfied: py-cpuinfo in /opt/homebrew/lib/python3.11/site-packages (from ultralytics) (9.0.0)\n",
            "Requirement already satisfied: thop>=0.1.1 in /opt/homebrew/lib/python3.11/site-packages (from ultralytics) (0.1.1.post2209072238)\n",
            "Requirement already satisfied: pandas>=1.1.4 in /opt/homebrew/lib/python3.11/site-packages (from ultralytics) (2.2.0)\n",
            "Requirement already satisfied: seaborn>=0.11.0 in /opt/homebrew/lib/python3.11/site-packages (from ultralytics) (0.13.2)\n",
            "Requirement already satisfied: contourpy>=1.0.1 in /opt/homebrew/lib/python3.11/site-packages (from matplotlib>=3.3.0->ultralytics) (1.2.0)\n",
            "Requirement already satisfied: cycler>=0.10 in /opt/homebrew/lib/python3.11/site-packages (from matplotlib>=3.3.0->ultralytics) (0.12.1)\n",
            "Requirement already satisfied: fonttools>=4.22.0 in /opt/homebrew/lib/python3.11/site-packages (from matplotlib>=3.3.0->ultralytics) (4.47.2)\n",
            "Requirement already satisfied: kiwisolver>=1.3.1 in /opt/homebrew/lib/python3.11/site-packages (from matplotlib>=3.3.0->ultralytics) (1.4.5)\n",
            "Requirement already satisfied: numpy<2,>=1.21 in /opt/homebrew/lib/python3.11/site-packages (from matplotlib>=3.3.0->ultralytics) (1.25.1)\n",
            "Requirement already satisfied: packaging>=20.0 in /opt/homebrew/lib/python3.11/site-packages (from matplotlib>=3.3.0->ultralytics) (23.1)\n",
            "Requirement already satisfied: pyparsing>=2.3.1 in /opt/homebrew/lib/python3.11/site-packages (from matplotlib>=3.3.0->ultralytics) (3.1.1)\n",
            "Requirement already satisfied: python-dateutil>=2.7 in /opt/homebrew/lib/python3.11/site-packages (from matplotlib>=3.3.0->ultralytics) (2.8.2)\n",
            "Requirement already satisfied: pytz>=2020.1 in /opt/homebrew/lib/python3.11/site-packages (from pandas>=1.1.4->ultralytics) (2024.1)\n",
            "Requirement already satisfied: tzdata>=2022.7 in /opt/homebrew/lib/python3.11/site-packages (from pandas>=1.1.4->ultralytics) (2024.1)\n",
            "Requirement already satisfied: charset-normalizer<4,>=2 in /opt/homebrew/lib/python3.11/site-packages (from requests>=2.23.0->ultralytics) (3.2.0)\n",
            "Requirement already satisfied: idna<4,>=2.5 in /opt/homebrew/lib/python3.11/site-packages (from requests>=2.23.0->ultralytics) (3.4)\n",
            "Requirement already satisfied: urllib3<3,>=1.21.1 in /opt/homebrew/lib/python3.11/site-packages (from requests>=2.23.0->ultralytics) (2.0.3)\n",
            "Requirement already satisfied: certifi>=2017.4.17 in /opt/homebrew/lib/python3.11/site-packages (from requests>=2.23.0->ultralytics) (2023.5.7)\n",
            "Requirement already satisfied: filelock in /opt/homebrew/lib/python3.11/site-packages (from torch>=1.8.0->ultralytics) (3.12.2)\n",
            "Requirement already satisfied: typing-extensions in /opt/homebrew/lib/python3.11/site-packages (from torch>=1.8.0->ultralytics) (4.5.0)\n",
            "Requirement already satisfied: sympy in /opt/homebrew/lib/python3.11/site-packages (from torch>=1.8.0->ultralytics) (1.12)\n",
            "Requirement already satisfied: networkx in /opt/homebrew/lib/python3.11/site-packages (from torch>=1.8.0->ultralytics) (3.1)\n",
            "Requirement already satisfied: jinja2 in /opt/homebrew/lib/python3.11/site-packages (from torch>=1.8.0->ultralytics) (3.1.2)\n",
            "Requirement already satisfied: fsspec in /opt/homebrew/lib/python3.11/site-packages (from torch>=1.8.0->ultralytics) (2023.6.0)\n",
            "Requirement already satisfied: six>=1.5 in /opt/homebrew/lib/python3.11/site-packages (from python-dateutil>=2.7->matplotlib>=3.3.0->ultralytics) (1.16.0)\n",
            "Requirement already satisfied: MarkupSafe>=2.0 in /opt/homebrew/lib/python3.11/site-packages (from jinja2->torch>=1.8.0->ultralytics) (2.1.3)\n",
            "Requirement already satisfied: mpmath>=0.19 in /opt/homebrew/lib/python3.11/site-packages (from sympy->torch>=1.8.0->ultralytics) (1.3.0)\n",
            "\u001b[33mDEPRECATION: omegaconf 2.0.6 has a non-standard dependency specifier PyYAML>=5.1.*. pip 24.0 will enforce this behaviour change. A possible replacement is to upgrade to a newer version of omegaconf or contact the author to suggest that they release a version with a conforming dependency specifiers. Discussion can be found at https://github.com/pypa/pip/issues/12063\u001b[0m\u001b[33m\n",
            "\u001b[0m\n",
            "\u001b[1m[\u001b[0m\u001b[34;49mnotice\u001b[0m\u001b[1;39;49m]\u001b[0m\u001b[39;49m A new release of pip is available: \u001b[0m\u001b[31;49m23.3.2\u001b[0m\u001b[39;49m -> \u001b[0m\u001b[32;49m24.0\u001b[0m\n",
            "\u001b[1m[\u001b[0m\u001b[34;49mnotice\u001b[0m\u001b[1;39;49m]\u001b[0m\u001b[39;49m To update, run: \u001b[0m\u001b[32;49mpython3.11 -m pip install --upgrade pip\u001b[0m\n",
            "Traceback (most recent call last):\n",
            "  File \"/Users/phongngo/Desktop/ob_det/yolov5/models/common.py\", line 27, in <module>\n",
            "    import ultralytics\n",
            "ModuleNotFoundError: No module named 'ultralytics'\n",
            "\n",
            "During handling of the above exception, another exception occurred:\n",
            "\n",
            "Traceback (most recent call last):\n",
            "  File \"/Users/phongngo/Desktop/ob_det/yolov5/train.py\", line 47, in <module>\n",
            "    import val as validate  # for end-of-epoch mAP\n",
            "    ^^^^^^^^^^^^^^^^^^^^^^\n",
            "  File \"/Users/phongngo/Desktop/ob_det/yolov5/val.py\", line 39, in <module>\n",
            "    from models.common import DetectMultiBackend\n",
            "  File \"/Users/phongngo/Desktop/ob_det/yolov5/models/common.py\", line 34, in <module>\n",
            "    import ultralytics\n",
            "ModuleNotFoundError: No module named 'ultralytics'\n"
          ]
        }
      ],
      "source": [
        "# Train YOLOv5s on COCO128 for 3 epochs\n",
        "!python train.py --img 640 --batch 2 --epochs 100 --data custom_data.yaml --weights yolov5s.pt --cache"
      ]
    },
    {
      "cell_type": "markdown",
      "metadata": {
        "id": "15glLzbQx5u0"
      },
      "source": [
        "# 4. Visualize"
      ]
    },
    {
      "cell_type": "markdown",
      "metadata": {
        "id": "nWOsI5wJR1o3"
      },
      "source": [
        "## Comet Logging and Visualization 🌟 NEW\n",
        "\n",
        "[Comet](https://www.comet.com/site/lp/yolov5-with-comet/?utm_source=yolov5&utm_medium=partner&utm_campaign=partner_yolov5_2022&utm_content=yolov5_colab) is now fully integrated with YOLOv5. Track and visualize model metrics in real time, save your hyperparameters, datasets, and model checkpoints, and visualize your model predictions with [Comet Custom Panels](https://www.comet.com/docs/v2/guides/comet-dashboard/code-panels/about-panels/?utm_source=yolov5&utm_medium=partner&utm_campaign=partner_yolov5_2022&utm_content=yolov5_colab)! Comet makes sure you never lose track of your work and makes it easy to share results and collaborate across teams of all sizes!\n",
        "\n",
        "Getting started is easy:\n",
        "```shell\n",
        "pip install comet_ml  # 1. install\n",
        "export COMET_API_KEY=<Your API Key>  # 2. paste API key\n",
        "python train.py --img 640 --epochs 3 --data coco128.yaml --weights yolov5s.pt  # 3. train\n",
        "```\n",
        "To learn more about all of the supported Comet features for this integration, check out the [Comet Tutorial](https://docs.ultralytics.com/yolov5/tutorials/comet_logging_integration). If you'd like to learn more about Comet, head over to our [documentation](https://www.comet.com/docs/v2/?utm_source=yolov5&utm_medium=partner&utm_campaign=partner_yolov5_2022&utm_content=yolov5_colab). Get started by trying out the Comet Colab Notebook:\n",
        "[![Open In Colab](https://colab.research.google.com/assets/colab-badge.svg)](https://colab.research.google.com/drive/1RG0WOQyxlDlo5Km8GogJpIEJlg_5lyYO?usp=sharing)\n",
        "\n",
        "<a href=\"https://bit.ly/yolov5-readme-comet2\">\n",
        "<img alt=\"Comet Dashboard\" src=\"https://user-images.githubusercontent.com/26833433/202851203-164e94e1-2238-46dd-91f8-de020e9d6b41.png\" width=\"1280\"/></a>"
      ]
    },
    {
      "cell_type": "markdown",
      "metadata": {
        "id": "Lay2WsTjNJzP"
      },
      "source": [
        "## ClearML Logging and Automation 🌟 NEW\n",
        "\n",
        "[ClearML](https://cutt.ly/yolov5-notebook-clearml) is completely integrated into YOLOv5 to track your experimentation, manage dataset versions and even remotely execute training runs. To enable ClearML (check cells above):\n",
        "\n",
        "- `pip install clearml`\n",
        "- run `clearml-init` to connect to a ClearML server (**deploy your own [open-source server](https://github.com/allegroai/clearml-server)**, or use our [free hosted server](https://cutt.ly/yolov5-notebook-clearml))\n",
        "\n",
        "You'll get all the great expected features from an experiment manager: live updates, model upload, experiment comparison etc. but ClearML also tracks uncommitted changes and installed packages for example. Thanks to that ClearML Tasks (which is what we call experiments) are also reproducible on different machines! With only 1 extra line, we can schedule a YOLOv5 training task on a queue to be executed by any number of ClearML Agents (workers).\n",
        "\n",
        "You can use ClearML Data to version your dataset and then pass it to YOLOv5 simply using its unique ID. This will help you keep track of your data without adding extra hassle. Explore the [ClearML Tutorial](https://docs.ultralytics.com/yolov5/tutorials/clearml_logging_integration) for details!\n",
        "\n",
        "<a href=\"https://cutt.ly/yolov5-notebook-clearml\">\n",
        "<img alt=\"ClearML Experiment Management UI\" src=\"https://github.com/thepycoder/clearml_screenshots/raw/main/scalars.jpg\" width=\"1280\"/></a>"
      ]
    },
    {
      "cell_type": "markdown",
      "metadata": {
        "id": "-WPvRbS5Swl6"
      },
      "source": [
        "## Local Logging\n",
        "\n",
        "Training results are automatically logged with [Tensorboard](https://www.tensorflow.org/tensorboard) and [CSV](https://github.com/ultralytics/yolov5/pull/4148) loggers to `runs/train`, with a new experiment directory created for each new training as `runs/train/exp2`, `runs/train/exp3`, etc.\n",
        "\n",
        "This directory contains train and val statistics, mosaics, labels, predictions and augmentated mosaics, as well as metrics and charts including precision-recall (PR) curves and confusion matrices.\n",
        "\n",
        "<img alt=\"Local logging results\" src=\"https://user-images.githubusercontent.com/26833433/183222430-e1abd1b7-782c-4cde-b04d-ad52926bf818.jpg\" width=\"1280\"/>\n"
      ]
    },
    {
      "cell_type": "markdown",
      "metadata": {
        "id": "Zelyeqbyt3GD"
      },
      "source": [
        "# Environments\n",
        "\n",
        "YOLOv5 may be run in any of the following up-to-date verified environments (with all dependencies including [CUDA](https://developer.nvidia.com/cuda)/[CUDNN](https://developer.nvidia.com/cudnn), [Python](https://www.python.org/) and [PyTorch](https://pytorch.org/) preinstalled):\n",
        "\n",
        "- **Notebooks** with free GPU: <a href=\"https://bit.ly/yolov5-paperspace-notebook\"><img src=\"https://assets.paperspace.io/img/gradient-badge.svg\" alt=\"Run on Gradient\"></a> <a href=\"https://colab.research.google.com/github/ultralytics/yolov5/blob/master/tutorial.ipynb\"><img src=\"https://colab.research.google.com/assets/colab-badge.svg\" alt=\"Open In Colab\"></a> <a href=\"https://www.kaggle.com/ultralytics/yolov5\"><img src=\"https://kaggle.com/static/images/open-in-kaggle.svg\" alt=\"Open In Kaggle\"></a>\n",
        "- **Google Cloud** Deep Learning VM. See [GCP Quickstart Guide](https://docs.ultralytics.com/yolov5/environments/google_cloud_quickstart_tutorial/)\n",
        "- **Amazon** Deep Learning AMI. See [AWS Quickstart Guide](https://docs.ultralytics.com/yolov5/environments/aws_quickstart_tutorial/)\n",
        "- **Docker Image**. See [Docker Quickstart Guide](https://docs.ultralytics.com/yolov5/environments/docker_image_quickstart_tutorial/) <a href=\"https://hub.docker.com/r/ultralytics/yolov5\"><img src=\"https://img.shields.io/docker/pulls/ultralytics/yolov5?logo=docker\" alt=\"Docker Pulls\"></a>\n"
      ]
    },
    {
      "cell_type": "markdown",
      "metadata": {
        "id": "6Qu7Iesl0p54"
      },
      "source": [
        "# Status\n",
        "\n",
        "![YOLOv5 CI](https://github.com/ultralytics/yolov5/actions/workflows/ci-testing.yml/badge.svg)\n",
        "\n",
        "If this badge is green, all [YOLOv5 GitHub Actions](https://github.com/ultralytics/yolov5/actions) Continuous Integration (CI) tests are currently passing. CI tests verify correct operation of YOLOv5 training ([train.py](https://github.com/ultralytics/yolov5/blob/master/train.py)), testing ([val.py](https://github.com/ultralytics/yolov5/blob/master/val.py)), inference ([detect.py](https://github.com/ultralytics/yolov5/blob/master/detect.py)) and export ([export.py](https://github.com/ultralytics/yolov5/blob/master/export.py)) on macOS, Windows, and Ubuntu every 24 hours and on every commit.\n"
      ]
    },
    {
      "cell_type": "markdown",
      "metadata": {
        "id": "IEijrePND_2I"
      },
      "source": [
        "# Appendix\n",
        "\n",
        "Additional content below."
      ]
    },
    {
      "cell_type": "code",
      "execution_count": null,
      "metadata": {
        "id": "GMusP4OAxFu6"
      },
      "outputs": [],
      "source": [
        "# YOLOv5 PyTorch HUB Inference (DetectionModels only)\n",
        "import torch\n",
        "\n",
        "model = torch.hub.load('ultralytics/yolov5', 'yolov5s', force_reload=True, trust_repo=True)  # or yolov5n - yolov5x6 or custom\n",
        "im = 'https://ultralytics.com/images/zidane.jpg'  # file, Path, PIL.Image, OpenCV, nparray, list\n",
        "results = model(im)  # inference\n",
        "results.print()  # or .show(), .save(), .crop(), .pandas(), etc."
      ]
    }
  ],
  "metadata": {
    "accelerator": "GPU",
    "colab": {
      "include_colab_link": true,
      "provenance": []
    },
    "kernelspec": {
      "display_name": "Python 3",
      "name": "python3"
    },
    "language_info": {
      "codemirror_mode": {
        "name": "ipython",
        "version": 3
      },
      "file_extension": ".py",
      "mimetype": "text/x-python",
      "name": "python",
      "nbconvert_exporter": "python",
      "pygments_lexer": "ipython3",
      "version": "3.11.6"
    }
  },
  "nbformat": 4,
  "nbformat_minor": 0
}
